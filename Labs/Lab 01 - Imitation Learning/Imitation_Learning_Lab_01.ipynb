{
 "cells": [
  {
   "cell_type": "markdown",
   "metadata": {
    "id": "ZMawyLEW_AGn"
   },
   "source": [
    "# Imitation Learning - Lab 01\n",
    "\n",
    "O objetivo desta laboratório é experimentar a aprendizagem por imitação (imitation learning), em que o modelo (rede) aprende a imitar as ações de um especialista (humano). No lugar de experiências coletadas de um especialista humano, aqui as demonstrações serão fornecidas por meio de uma política de especialistas que treinamos para você. \n",
    "\n",
    "- Usaremos um tipo de aprendizado por imitação, conhecido como clonagem comportamental (behavioral cloning). Isso significa que treinaremos nossa rede de forma supervisionada.\n",
    "- A saída da rede é a política de direção, representada pelo ângulo de direção desejado e/ou aceleração ou frenagem. Por exemplo, podemos ter um neurônio de saída de regressão para o ângulo de direção e um neurônio para aceleração ou frenagem (já que não podemos ter os dois ao mesmo tempo).\n",
    "- A entrada da rede pode ser:\n",
    "Dados brutos do sensor. Por exemplo, uma imagem da câmera. \n",
    "- Criaremos o conjunto de dados de treinamento com a ajuda do especialista. Em cada etapa da jornada, iremos registrar:\n",
    "    - O estado atual do ambiente. Estes podem ser os dados brutos do sensor ou a representação da vista de cima para baixo. Usaremos o estado atual como entrada para o modelo.\n",
    "    - As ações do especialista no estado atual do ambiente (ângulo de direção, freio / aceleração). Esses serão os dados de destino da rede. Durante o treinamento, vamos minimizar o erro entre as previsões da rede e as ações usando gradient descent. Desta forma, ensinaremos a rede a imitar o especialista.\n",
    "\n",
    "<br>\n",
    "\n",
    "A seguir está uma ilustração do cenário de Behavioral Cloning:\n",
    "\n",
    "<br>\n",
    "\n",
    "<img src='https://drive.google.com/uc?id=1ozI1x1hNgIa_IXNsxUm4V-YFADXlKxus' width=\"600\" height=\"400\">\n"
   ]
  },
  {
   "cell_type": "markdown",
   "metadata": {
    "id": "xdeHy9MGAbO_"
   },
   "source": [
    "## Configuração\n",
    "\n",
    "\n",
    "Você precisará fazer uma cópia deste notebook em seu Google Drive antes de editar. Você pode fazer isso com **Arquivo → Salvar uma cópia no Drive**."
   ]
  },
  {
   "cell_type": "code",
   "execution_count": null,
   "metadata": {
    "colab": {
     "base_uri": "https://localhost:8080/"
    },
    "id": "8-CfOCXFoxd3",
    "outputId": "58dfc188-5b95-419c-9482-22a508ec8965"
   },
   "outputs": [],
   "source": [
    "import os\n",
    "from google.colab import drive\n",
    "drive.mount(\"/content/gdrive\")"
   ]
  },
  {
   "cell_type": "code",
   "execution_count": null,
   "metadata": {
    "id": "-QKwdXhlAyiw"
   },
   "outputs": [],
   "source": [
    "# Seu trabalho será armazenado em uma pasta chamada `minicurso_rl` por padrão \n",
    "# para evitar que o tempo limite da instância do Colab exclua suas edições\n",
    "\n",
    "\n",
    "DRIVE_PATH = \"/content/gdrive/My\\ Drive/minicurso_rl\"\n",
    "DRIVE_PYTHON_PATH = DRIVE_PATH.replace(\"\\\\\", \"\")\n",
    "if not os.path.exists(DRIVE_PYTHON_PATH):\n",
    "  %mkdir $DRIVE_PATH\n",
    "\n",
    "SYM_PATH = \"/content/minicurso_rl\"\n",
    "if not os.path.exists(SYM_PATH):\n",
    "  !ln -s $DRIVE_PATH $SYM_PATH"
   ]
  },
  {
   "cell_type": "markdown",
   "metadata": {
    "id": "1eDEgSARy30b"
   },
   "source": [
    "Instalando as dependências"
   ]
  },
  {
   "cell_type": "code",
   "execution_count": null,
   "metadata": {
    "id": "L2V0MD29BoEr"
   },
   "outputs": [],
   "source": [
    "!pip install -U cloudpickle > /dev/null 2>&1 \n",
    "!pip install \"gym[all]\" > /dev/null 2>&1 \n",
    "!pip install \"gym[box2d]\" > /dev/null 2>&1 \n",
    "!pip install \"stable-baselines3[extra]\" > /dev/null 2>&1 \n",
    "\n",
    "!apt-get install x11-utils > /dev/null 2>&1 \n",
    "!pip install pyglet > /dev/null 2>&1 \n",
    "!apt-get install -y xvfb python-opengl > /dev/null 2>&1\n",
    "\n",
    "!pip install pyvirtualdisplay > /dev/null 2>&1\n",
    "\n",
    "!pip install plotly > /dev/null 2>&1"
   ]
  },
  {
   "cell_type": "code",
   "execution_count": null,
   "metadata": {
    "colab": {
     "base_uri": "https://localhost:8080/"
    },
    "id": "jnns06ycVXRs",
    "outputId": "3e9aab20-3de1-4cdd-9fe6-4423ccdd2bef"
   },
   "outputs": [],
   "source": [
    "! wget http://www.atarimania.com/roms/Roms.rar\n",
    "! mkdir /content/ROM/\n",
    "! unrar e /content/Roms.rar /content/ROM/ -y\n",
    "! python -m atari_py.import_roms /content/ROM/ > /dev/null 2>&1"
   ]
  },
  {
   "cell_type": "code",
   "execution_count": null,
   "metadata": {
    "id": "2GYJ_PX56rSR"
   },
   "outputs": [],
   "source": [
    "import torch\n",
    "import random\n",
    "import numpy as np\n",
    "\n",
    "torch.manual_seed(10)\n",
    "random.seed(10)\n",
    "np.random.seed(10)"
   ]
  },
  {
   "cell_type": "markdown",
   "metadata": {
    "id": "0K8iccKbF754"
   },
   "source": [
    "# Ambiente\n",
    "\n",
    "O ambiente utilizado será o Enduro-v0, um ambiente [OpenAI Gym](https://gym.openai.com/envs/Enduro-v0/) de corrida.\n",
    "\n",
    "[Gym](https://gym.openai.com/docs/) é um kit de ferramentas para desenvolver e comparar algoritmos de aprendizagem por reforço. Ele não faz suposições sobre a estrutura do seu agente e é compatível com qualquer biblioteca de computação numérica.\n",
    "\n",
    "O estado do ambiente Enduro consiste em 210x160 pixels.Uma recompensa de +1 é dada para cada carro ultrapassado e -1 para cada carro que passa pelo agente (mas a recompensa mínima é 0).\n",
    "\n",
    "O objetivo consiste em manobrar um carro de corrida no National Enduro, uma corrida de resistência de longa distância. O objetivo da corrida é passar um certo número de carros a cada dia. Isso permitirá que o jogador continue correndo no dia seguinte. O piloto deve evitar outros pilotos e ultrapassar 200 carros no primeiro dia e 300 carros em cada dia seguinte.\n",
    "\n",
    "Conforme o tempo passa, a visibilidade também muda. Quando é noite no jogo, o jogador só pode ver as luzes traseiras dos carros que se aproximam. Com o passar dos dias, os carros também se tornarão mais difíceis de evitar. O clima e a hora do dia são fatores importantes para jogar. Durante o dia, o jogador pode dirigir por um trecho de gelo na estrada que limitaria o controle do veículo, ou um trecho de neblina pode reduzir a visibilidade.\n",
    "\n",
    "[Descrição da Wikipedia](https://en.wikipedia.org/wiki/Enduro_%28video_game%29)"
   ]
  },
  {
   "cell_type": "code",
   "execution_count": null,
   "metadata": {
    "id": "1e2x7FjtERCk"
   },
   "outputs": [],
   "source": [
    "# Procedimento para renderizar o ambiente no Google Colab\n",
    "\n",
    "from pyvirtualdisplay import Display\n",
    "display = Display(visible=0, size=(1024, 768))\n",
    "display.start()\n",
    "\n",
    "\n",
    "from matplotlib import pyplot as plt, animation\n",
    "%matplotlib inline\n",
    "from IPython import display\n",
    "\n",
    "def create_anim(frames, dpi, fps):\n",
    "    plt.figure(figsize=(frames[0].shape[1] / dpi, frames[0].shape[0] / dpi), dpi=dpi)\n",
    "    patch = plt.imshow(frames[0])\n",
    "    def setup():\n",
    "        plt.axis('off')\n",
    "    def animate(i):\n",
    "        patch.set_data(frames[i])\n",
    "    anim = animation.FuncAnimation(plt.gcf(), animate, init_func=setup, frames=len(frames), interval=fps)\n",
    "    return anim\n",
    "\n",
    "def display_anim(frames, dpi=72, fps=60):\n",
    "    anim = create_anim(frames, dpi, fps)\n",
    "    return anim.to_jshtml()\n",
    "\n",
    "def save_anim(frames, filename, dpi=72, fps=50):\n",
    "    anim = create_anim(frames, dpi, fps)\n",
    "    anim.save(filename)\n",
    "\n",
    "\n",
    "class trigger:\n",
    "    def __init__(self):\n",
    "        self._trigger = True\n",
    "\n",
    "    def __call__(self, e):\n",
    "        return self._trigger\n",
    "\n",
    "    def set(self, t):\n",
    "        self._trigger = t"
   ]
  },
  {
   "cell_type": "markdown",
   "metadata": {
    "id": "u7foeM827r6I"
   },
   "source": [
    "Interagimos no ambiente através da função `step`, que nos retorna quatro valores: observação, recompensa, done, info. Esta é uma implementação do clássico “loop agente-ambiente”. A cada passo de tempo, o agente escolhe uma ação e o ambiente retorna uma observação e a recompensa.\n",
    "<br>\n",
    "\n",
    "<img src='https://drive.google.com/uc?id=1TXdjYkbfm2EvtCbVIpe5BkUgXJY1d1zE' width=\"600\" height=\"250\">"
   ]
  },
  {
   "cell_type": "code",
   "execution_count": null,
   "metadata": {
    "id": "j7pkNyBjzMy1"
   },
   "outputs": [],
   "source": [
    "import gym\n",
    "environment_id = \"EnduroNoFrameskip-v4\"       # Nome do ambiente utilizado"
   ]
  },
  {
   "cell_type": "code",
   "execution_count": null,
   "metadata": {
    "colab": {
     "base_uri": "https://localhost:8080/"
    },
    "id": "--EwWyyKEN4P",
    "outputId": "8b235e00-35fe-48f7-b31e-2d43e7ed27d7"
   },
   "outputs": [],
   "source": [
    "env = gym.make(environment_id)                # Criando o ambiente\n",
    "\n",
    "frames = []\n",
    "episodes = 1\n",
    "for episode in range(1, episodes+1):\n",
    "    obs = env.reset()     # Retorna a observação inicial\n",
    "    done = False\n",
    "    score = 0\n",
    "    while not done:\n",
    "        frames.append(env.render(mode='rgb_array'))     # Renderizando o ambiente\n",
    "        action = env.action_space.sample()              # Seleciona uma ação aleatória\n",
    "        obs, reward, done, info = env.step(action)    # Executa a ação selecionada\n",
    "        score += reward\n",
    "    print(\"\\n\\nEpisódio: {} Pontuação: {}\".format(episode,score))\n",
    "env.close()"
   ]
  },
  {
   "cell_type": "code",
   "execution_count": null,
   "metadata": {
    "colab": {
     "background_save": true,
     "base_uri": "https://localhost:8080/"
    },
    "id": "3JvCqsFCEadc",
    "outputId": "a6f71d08-e9dc-4a7d-a924-b34cb9ba2322"
   },
   "outputs": [],
   "source": [
    "display.HTML(display_anim(frames))\n"
   ]
  },
  {
   "cell_type": "markdown",
   "metadata": {
    "id": "3jQFnEqE7je3"
   },
   "source": [
    "# Carregar Modelo Especialista\n",
    "\n",
    "O modelo especialista que estamos disponibilizando para você é um agente de aprendizado por reforço treinado com o algoritmo Proximal Policy Optmization (PPO). Para isso, foi utilizado a biblioteca [Stable Baselines3](https://stable-baselines3.readthedocs.io/en/master/), que contém uma série de implementações de algoritmos de Aprendizado por Reforço em PyTorch."
   ]
  },
  {
   "cell_type": "code",
   "execution_count": null,
   "metadata": {
    "id": "LgehcZJTarmv"
   },
   "outputs": [],
   "source": [
    "!cd minicurso_rl && gdown --id 1ZV5fvCbU_gbTy1AraSR-ymNsiNQesBvt"
   ]
  },
  {
   "cell_type": "code",
   "execution_count": null,
   "metadata": {
    "id": "IH6R9BG2bY3n"
   },
   "outputs": [],
   "source": [
    "from stable_baselines3 import PPO, A2C\n",
    "from stable_baselines3.common.evaluation import evaluate_policy\n",
    "from stable_baselines3.common.atari_wrappers import AtariWrapper\n",
    "from stable_baselines3.common.env_util import make_vec_env\n",
    "from stable_baselines3.common.vec_env import VecFrameStack"
   ]
  },
  {
   "cell_type": "code",
   "execution_count": null,
   "metadata": {
    "id": "g4UFIcHJ7is5"
   },
   "outputs": [],
   "source": [
    "expert = PPO.load(\"minicurso_rl/EnduroNoFrameskip-v4\")"
   ]
  },
  {
   "cell_type": "markdown",
   "metadata": {
    "id": "d0550zylM3Jd"
   },
   "source": [
    "Para criar o ambiente iremos aplicar alguns processamentos que irão ajudar o agente.\n",
    "\n",
    "Os wrappers nos permitirão adicionar funcionalidade aos ambientes, como modificar observações e recompensas a serem fornecidas ao nosso agente. É comum na aprendizagem por reforço pré-processar as observações para torná-las mais fáceis de aprender. Um exemplo comum é ao usar entradas baseadas em imagem, para garantir que todos os valores estejam entre 0 e 1 ao invés de entre 0 e 255, como é mais comum com imagens RGB.\n",
    "\n",
    "Para mais detalhes dos wrappers utilizados veja em: [Atari Wrappers](https://stable-baselines3.readthedocs.io/en/master/common/atari_wrappers.html) e [Vectorized Environments](https://stable-baselines3.readthedocs.io/en/master/guide/examples.html?highlight=make_vec_env#multiprocessing-unleashing-the-power-of-vectorized-environments)."
   ]
  },
  {
   "cell_type": "code",
   "execution_count": null,
   "metadata": {
    "id": "te8GATTMgzyJ"
   },
   "outputs": [],
   "source": [
    "env = make_vec_env(environment_id, wrapper_class=AtariWrapper)  \n",
    "env = VecFrameStack(env, 4) "
   ]
  },
  {
   "cell_type": "markdown",
   "metadata": {
    "id": "SVOfCTfrrWZd"
   },
   "source": [
    "Vamos ver o quão bem o especialista consegue se sair no ambiente."
   ]
  },
  {
   "cell_type": "code",
   "execution_count": null,
   "metadata": {
    "id": "_tdWi45r1e4U"
   },
   "outputs": [],
   "source": [
    "mean_reward, std_reward = evaluate_policy(expert, env, n_eval_episodes=10)\n",
    "print(f\"Recompensa média = {mean_reward} +/- {std_reward}\")"
   ]
  },
  {
   "cell_type": "code",
   "execution_count": null,
   "metadata": {
    "colab": {
     "background_save": true
    },
    "id": "vMR4o-MxfhOM",
    "outputId": "cb722473-c82f-4a9c-bf26-8042a86ec209"
   },
   "outputs": [],
   "source": [
    "frames = []\n",
    "episodes = 1\n",
    "for episode in range(1, episodes+1):\n",
    "    obs = env.reset()     # Retorna a observação inicial\n",
    "    done = False\n",
    "    score = 0\n",
    "    while not done:\n",
    "        frames.append(env.render(mode='rgb_array'))         # Renderizando o ambiente\n",
    "        action = expert.predict(obs, deterministic=True)    # Seleciona uma ação do agente especialista\n",
    "        obs, reward, done, info = env.step(action)          # Executa a ação selecionada\n",
    "        score += reward\n",
    "    print(\"\\n\\nEpisódio: {} Pontuação: {}\".format(episode,score))\n",
    "env.close()\n",
    "\n",
    "display.HTML(display_anim(frames))\n"
   ]
  },
  {
   "cell_type": "markdown",
   "metadata": {
    "id": "93-BHhi5CKI6"
   },
   "source": [
    "Agora, deixamos nosso especialista interagir com o ambiente e armazenar as observações e ações de especialistas resultantes para construir um conjunto de dados."
   ]
  },
  {
   "cell_type": "code",
   "execution_count": null,
   "metadata": {
    "colab": {
     "background_save": true
    },
    "id": "W2tziC8Yr2Rd"
   },
   "outputs": [],
   "source": [
    "from tqdm import tqdm"
   ]
  },
  {
   "cell_type": "code",
   "execution_count": null,
   "metadata": {
    "colab": {
     "background_save": true
    },
    "id": "uXjvoWS9CANk"
   },
   "outputs": [],
   "source": [
    "num_interactions = int(4e4)"
   ]
  },
  {
   "cell_type": "code",
   "execution_count": null,
   "metadata": {
    "id": "QSZCmJ6yCM2y"
   },
   "outputs": [],
   "source": [
    "if isinstance(env.action_space, gym.spaces.Box):\n",
    "    expert_observations = np.empty((num_interactions,) + env.observation_space.shape)\n",
    "    expert_actions = np.empty((num_interactions,) + (env.action_space.shape[0],))\n",
    "else:\n",
    "    expert_observations = np.empty((num_interactions,) + env.observation_space.shape)\n",
    "    expert_actions = np.empty((num_interactions,) + env.action_space.shape)\n",
    "\n",
    "\n",
    "# HW: Interaja  com o ambiente `env` conforme visto anteriormente. Armazene \n",
    "# as observações e as ações do especialista em `expert_observations` e \n",
    "# `expert_actions` respectivamente para construir o dataset.\n",
    "\n",
    "frames = []\n",
    "episodes = 1\n",
    "i=0\n",
    "for episode in range(1, episodes+1):\n",
    "    obs = env.reset()\n",
    "    done = False\n",
    "    score = 0\n",
    "    while not done:\n",
    "        frames.append(env.render(mode='rgb_array'))\n",
    "        action, _ = expert.predict(obs, deterministic=True)\n",
    "        expert_observations[i] = obs\n",
    "        expert_actions[i] = action\n",
    "        i+=1\n",
    "        n_obs, reward, done, info = env.step(action)\n",
    "        score += reward\n",
    "        obs =  n_obs\n",
    "    if done:\n",
    "        print(f'Episode finished after {i+1} timesteps')\n",
    "        break\n",
    "\n",
    "# Salva os dados (observação, ação)\n",
    "np.savez_compressed(\n",
    "    \"minicurso_rl/expert_data\",\n",
    "    expert_actions=expert_actions,\n",
    "    expert_observations=expert_observations,\n",
    ")"
   ]
  },
  {
   "cell_type": "code",
   "execution_count": null,
   "metadata": {
    "id": "sOLqZD7ggqkv"
   },
   "outputs": [],
   "source": [
    "try:\n",
    "    expert_observations, expert_actions\n",
    "except NameError:\n",
    "    pass\n",
    "else:\n",
    "  del expert_observations, expert_actions\n",
    "\n",
    "\n",
    "# Carrega os dados salvos\n",
    "data = np.load(\"minicurso_rl/expert_data.npz\")"
   ]
  },
  {
   "cell_type": "markdown",
   "metadata": {
    "id": "iMFddIRoLuCd"
   },
   "source": [
    "- Para usar perfeitamente o PyTorch no processo de treinamento, criamos uma subclasse de `ExpertDataset` do `Dataset` base do Pytorch\n",
    "- Observe que inicializamos o conjunto de dados com as observações e ações de especialistas geradas anteriormente.\n",
    "- Implementamos ainda as [funções mágicas](https://rszalski.github.io/magicmethods/) `__getitem__` e` __len__` do Python para permitir que o manuseio do conjunto de dados do PyTorch acesse linhas arbitrárias no conjunto de dados e informá-lo sobre o comprimento do conjunto de dados.\n",
    "- Para obter mais informações sobre os conjuntos de dados de PyTorch, você pode ler: https://pytorch.org/docs/stable/data.html."
   ]
  },
  {
   "cell_type": "code",
   "execution_count": null,
   "metadata": {
    "id": "N33dTfs8MADf"
   },
   "outputs": [],
   "source": [
    "from torch.utils.data.dataset import Dataset, random_split"
   ]
  },
  {
   "cell_type": "code",
   "execution_count": null,
   "metadata": {
    "id": "aLuZoKujMFKB"
   },
   "outputs": [],
   "source": [
    "class ExpertDataSet(Dataset):\n",
    "    def __init__(self, expert_observations, expert_actions):\n",
    "        self.observations = expert_observations\n",
    "        self.actions = expert_actions\n",
    "        \n",
    "    def __getitem__(self, index):\n",
    "        return (self.observations[index], self.actions[index])\n",
    "\n",
    "    def __len__(self):\n",
    "        return len(self.observations)"
   ]
  },
  {
   "cell_type": "markdown",
   "metadata": {
    "id": "EGLryFyMMJjF"
   },
   "source": [
    "Agora instanciamos o `ExpertDataSet` e o dividimos em conjuntos de dados de treinamento e teste."
   ]
  },
  {
   "cell_type": "code",
   "execution_count": null,
   "metadata": {
    "id": "Ve60YhwzMHfK"
   },
   "outputs": [],
   "source": [
    "expert_dataset = ExpertDataSet(data[\"expert_observations\"], data[\"expert_actions\"])\n",
    "\n",
    "del data\n",
    "\n",
    "train_size = int(0.8 * len(expert_dataset))     # 80% dos dados para treinamento\n",
    "test_size = len(expert_dataset) - train_size    # E o restante dos dados para teste\n",
    "\n",
    "train_expert_dataset, test_expert_dataset = random_split(\n",
    "    expert_dataset, [train_size, test_size]\n",
    ")"
   ]
  },
  {
   "cell_type": "code",
   "execution_count": null,
   "metadata": {
    "id": "VMqxQ3YZMaXW"
   },
   "outputs": [],
   "source": [
    "print(\"# test_expert_dataset: \", len(test_expert_dataset))\n",
    "print(\"# train_expert_dataset: \", len(train_expert_dataset))"
   ]
  },
  {
   "cell_type": "markdown",
   "metadata": {
    "id": "qzMyjklbCArD"
   },
   "source": [
    "# Treinar o agente estudante"
   ]
  },
  {
   "cell_type": "markdown",
   "metadata": {
    "id": "JP5nBNn1MkvP"
   },
   "source": [
    "Nossos próximos passos:\n",
    "\n",
    "1. Extraímos a rede de políticas de nosso aluno.\n",
    "2. Carregamos o conjunto de dados de especialistas (rotulados) contendo observações de especialistas como entradas e ações de especialistas como alvos.\n",
    "3. Realizamos aprendizagem supervisionada, ou seja, ajustamos os parâmetros da rede de políticas de forma que, dadas as observações de especialistas como entradas para a rede, suas saídas correspondam aos alvos (ações de especialistas).\n",
    "\n",
    "\n",
    "Ao treinar a rede de políticas dessa maneira, o agente aluno correspondente é ensinado a se comportar como o agente especialista que foi usado para criar o conjunto de dados especialista (Behavior Cloning)."
   ]
  },
  {
   "cell_type": "code",
   "execution_count": null,
   "metadata": {
    "id": "e5d_C46gu8Yp"
   },
   "outputs": [],
   "source": [
    "import torch.nn as nn\n",
    "import torch.optim as optim\n",
    "import torch.nn.functional as F\n",
    "from torch.distributions.categorical import Categorical\n",
    "from torch.optim.lr_scheduler import StepLR"
   ]
  },
  {
   "cell_type": "code",
   "execution_count": null,
   "metadata": {
    "id": "LG0oRMriPWxX"
   },
   "outputs": [],
   "source": [
    "# \n",
    "\n",
    "batch_size=128\n",
    "epochs=20\n",
    "scheduler_gamma=0.99\n",
    "learning_rate=5e-3\n",
    "log_interval=100\n",
    "no_cuda=False    \n",
    "seed=1\n",
    "test_batch_size=128\n"
   ]
  },
  {
   "cell_type": "code",
   "execution_count": null,
   "metadata": {
    "id": "GO1OG1uTPoNL"
   },
   "outputs": [],
   "source": [
    "use_cuda = not no_cuda and torch.cuda.is_available()\n",
    "torch.manual_seed(seed)\n",
    "device = torch.device(\"cuda\" if use_cuda else \"cpu\")\n",
    "kwargs = {\"num_workers\": 1, \"pin_memory\": True} if use_cuda else {}\n"
   ]
  },
  {
   "cell_type": "markdown",
   "metadata": {
    "id": "W7mj915v_IJm"
   },
   "source": [
    "Agora iremos definir a rede neural que iremos utilizar para o aluno estudante. Aqui criamos um agente de aprendizado por reforço, e extraimos dele a rede da política. Alternativamente você pode construir a sua própria rede neural.\n",
    "\n",
    "Como estamos utilizando imagens como entrada, iremos utilizar uma rede chamada de Rede Neural Convolucional (Convolutional Neural Network - CNN).\n",
    "\n",
    "<br>\n",
    "\n",
    "- https://towardsdatascience.com/pytorch-basics-how-to-train-your-neural-net-intro-to-cnn-26a14c2ea29\n",
    "\n",
    "- https://medium.com/swlh/introduction-to-cnn-image-classification-using-cnn-in-pytorch-11eefae6d83c\n",
    "\n",
    "- https://www.analyticsvidhya.com/blog/2019/10/building-image-classification-models-cnn-pytorch/\n"
   ]
  },
  {
   "cell_type": "code",
   "execution_count": null,
   "metadata": {
    "id": "39sT4rgBPslk"
   },
   "outputs": [],
   "source": [
    "from torchsummary import summary\n",
    "\n",
    "student = PPO('CnnPolicy', env, verbose=1)\n",
    "\n",
    "# Extrair politica inicial\n",
    "model = student.policy.to(device)\n",
    "\n",
    "# Mostra um sumário da rede, mostrando todas as suas camadas \n",
    "summary(model, (4, 84, 84))"
   ]
  },
  {
   "cell_type": "markdown",
   "metadata": {
    "id": "36xmtUnNPyy0"
   },
   "source": [
    "Como visto em aula, queremos minimizar a diferença entre a resposta correta e a resposta do modelo. A primeira tarefa é, portanto, definir um critério que mede o erro entre cada elemento na entrada x e no destino y.\n",
    "\n",
    "Aqui precisamos nos atentar em alguns pontos. \n",
    "\n",
    "Box e Discrete são os dois tipos de espaço mais comumente usados para representar os espaços de Observação e Ação em ambientes do Gym. \n",
    "\n",
    "- Box: Uma caixa dimensional, onde cada coordenada fica entre um limite definido por [baixo, alto]\n",
    "- Discrete: O espaço consiste em n pontos distintos, cada um mapeado para um valor inteiro no intervalo [0, n-1]\n",
    "\n",
    "\n",
    "No caso do ambiente Enduro,as ações são discretas, onde será selecionado um valor entre 0 e n-1 para ser aplicado ao ambiente.\n",
    "\n",
    "As saídas da rede é uma lista de probabilidade de selecionar cada uma dessas ações. Iremos executar a ação com a maior probabilidade dada pela rede.\n",
    "\n",
    "<img src='https://drive.google.com/uc?id=1KEBtAKI5kOAC7PfcK3SRQIdE1sQwmAza' width=\"550\" height=\"180\">\n",
    "\n",
    "Como iremos definir o erro da entrada e do destino?\n",
    "\n",
    "O que queremos minimizar é a distância entre duas distribuições de probabilidade - prevista e real.\n",
    "\n",
    "Considere um classificador que prediz se um dado animal é um cão, gato ou cavalo com uma probabilidade associada a cada um. \n",
    "\n",
    "Suponha que a imagem original seja de um cachorro e o modelo preveja 0.2, 0.7, 0.1 como probabilidade para três classes em que as probabilidades verdadeiras se parecem com 1, 0, 0. O que desejamos idealmente é que nossas probabilidades previstas sejam próximas às originais. Portanto, precisamos nos certificar de que estamos minimizando a diferença entre as duas probabilidades.\n",
    "\n",
    "Para isso temos uma loss chamada de Cross-Entropy que nos ajuda a calcular essa diferença. Veja mais em: https://towardsdatascience.com/cross-entropy-loss-function-f38c4ec8643e"
   ]
  },
  {
   "cell_type": "code",
   "execution_count": null,
   "metadata": {
    "id": "p5pDD8T3WAF-"
   },
   "outputs": [],
   "source": [
    "nb_actions = env.action_space.n\n",
    "print(\"O número total de ações possíveis é: \", nb_actions)"
   ]
  },
  {
   "cell_type": "code",
   "execution_count": null,
   "metadata": {
    "id": "fzYyTCZTPpgp"
   },
   "outputs": [],
   "source": [
    "# HW: Implementar função de Loss\n",
    "criterion = nn.CrossEntropyLoss()"
   ]
  },
  {
   "cell_type": "code",
   "execution_count": null,
   "metadata": {
    "id": "UIQ8IB4dbOH9"
   },
   "outputs": [],
   "source": [
    "# HW: Implementar função de Acurácia\n",
    "def acc(model_out, true_out):\n",
    "    model_a = model_out.argmax(1)\n",
    "    return torch.sum(model_a == true_out)"
   ]
  },
  {
   "cell_type": "code",
   "execution_count": null,
   "metadata": {
    "id": "OtAIxZyPQ16h"
   },
   "outputs": [],
   "source": [
    "# HW: Implementar função de Treino\n",
    "# ela deve retornar informações de loss e acurácia\n",
    "def train():\n",
    "    _loss = 0.0\n",
    "    _acc = 0.0\n",
    "\n",
    "    model.train()\n",
    "    with torch.no_grad():\n",
    "        for data, target in train_loader:\n",
    "            data = data.permute(0, 3, 1, 2)\n",
    "            data, target = data.to(device), target.to(device)\n",
    "            print(target)\n",
    "            \n",
    "            if isinstance(env.action_space, gym.spaces.Box):\n",
    "                # A2C/PPO policy outputs actions, values, log_prob\n",
    "                action, _, _ = model(data)\n",
    "                action_prediction = action.double()\n",
    "            else:\n",
    "                # Retrieve the logits for A2C/PPO when using discrete actions\n",
    "                latent_pi, _, _ = model._get_latent(data)\n",
    "                logits = model.action_net(latent_pi)\n",
    "                action_prediction = logits\n",
    "                target = target.long()\n",
    "            \n",
    "            train_loss = criterion(action_prediction, target)\n",
    "\n",
    "            _loss += train_loss.data.cpu().numpy()\n",
    "            _acc += acc(action_prediction, target).data.cpu().numpy()\n",
    "\n",
    "    _loss /= float(len(train_loader.dataset))\n",
    "    _acc /= float(len(train_loader.dataset))\n",
    "    print(f\"Conjunto de Treino: Loss {_loss:.4f} \\tAccuracy {_acc*100:.2f} %\")\n",
    "    return _loss, _acc"
   ]
  },
  {
   "cell_type": "code",
   "execution_count": null,
   "metadata": {
    "id": "YyZmHN9wRMHW"
   },
   "outputs": [],
   "source": [
    "def test():\n",
    "    _loss = 0.0\n",
    "    _acc = 0.0\n",
    "\n",
    "    model.eval()\n",
    "    with torch.no_grad():\n",
    "        for data, target in test_loader:\n",
    "            data = data.permute(0, 3, 1, 2)\n",
    "            data, target = data.to(device), target.to(device)\n",
    "\n",
    "            if isinstance(env.action_space, gym.spaces.Box):\n",
    "                # A2C/PPO policy outputs actions, values, log_prob\n",
    "                action, _, _ = model(data)\n",
    "                action_prediction = action.double()\n",
    "            else:\n",
    "                # Retrieve the logits for A2C/PPO when using discrete actions\n",
    "                latent_pi, _, _ = model._get_latent(data)\n",
    "                logits = model.action_net(latent_pi)\n",
    "                action_prediction = logits\n",
    "                target = target.long()\n",
    "            \n",
    "            test_loss = criterion(action_prediction, target)\n",
    "\n",
    "            _loss += test_loss.data.cpu().numpy()\n",
    "            _acc += acc(action_prediction, target).data.cpu().numpy()\n",
    "\n",
    "    _loss /= float(len(test_loader.dataset))\n",
    "    _acc /= float(len(test_loader.dataset))\n",
    "    print(f\"Conjunto de Teste: Loss {_loss:.4f} \\tAccuracy {_acc*100:.2f} %\")\n",
    "    return _loss, _acc    "
   ]
  },
  {
   "cell_type": "markdown",
   "metadata": {
    "id": "kT6wY7mZR3t9"
   },
   "source": [
    "Avalie o agente antes do treinamento (seu comportamento deve ser aleatório)"
   ]
  },
  {
   "cell_type": "code",
   "execution_count": null,
   "metadata": {
    "id": "48urm-5TR2yX"
   },
   "outputs": [],
   "source": [
    "mean_reward, std_reward = evaluate_policy(student, env, n_eval_episodes=10)\n",
    "print(f\"Recompensa média = {mean_reward} +/- {std_reward}\")"
   ]
  },
  {
   "cell_type": "code",
   "execution_count": null,
   "metadata": {
    "id": "1Fg10lrfRTuF"
   },
   "outputs": [],
   "source": [
    "# Aqui, usamos PyTorch `DataLoader` para carregar o` ExpertDataset` criado anteriormente para treinamento e teste\n",
    "train_loader = torch.utils.data.DataLoader(\n",
    "    dataset=train_expert_dataset, batch_size=batch_size, shuffle=True, **kwargs\n",
    ")\n",
    "test_loader = torch.utils.data.DataLoader(\n",
    "    dataset=test_expert_dataset, batch_size=test_batch_size, shuffle=True, **kwargs,\n",
    ")\n",
    "\n",
    "# Defina um Otimizador e uma programação de taxa de aprendizagem (learning rate).\n",
    "optimizer = optim.Adam(model.parameters(), lr=learning_rate)\n",
    "scheduler = StepLR(optimizer, step_size=1, gamma=scheduler_gamma)"
   ]
  },
  {
   "cell_type": "markdown",
   "metadata": {
    "id": "Ve8D386FSZU0"
   },
   "source": [
    "Tendo definido o procedimento de treinamento, podemos agora executar o treinamento!"
   ]
  },
  {
   "cell_type": "code",
   "execution_count": null,
   "metadata": {
    "id": "oAiOxXLnSfIG"
   },
   "outputs": [],
   "source": [
    "# Agora estamos finalmente prontos para treinar o modelo de política.\n",
    "train_loss, train_acc = [], []\n",
    "test_loss, test_acc = [], []\n",
    "_learning_rate = []\n",
    "\n",
    "for epoch in range(1, epochs + 1):\n",
    "    _learning_rate.append(scheduler.get_lr()[0])\n",
    "    print(\"learning rate: \", scheduler.get_lr()[0])\n",
    "\n",
    "    _train_loss, _train_acc = train()\n",
    "    _test_loss, _test_acc = test()\n",
    "\n",
    "    train_loss.append(_train_loss)\n",
    "    train_acc.append(_train_acc)\n",
    "    test_loss.append(_test_loss)\n",
    "    test_acc.append(_test_acc)\n",
    "    \n",
    "    scheduler.step()"
   ]
  },
  {
   "cell_type": "code",
   "execution_count": null,
   "metadata": {
    "id": "nOgkr-fPfwxH"
   },
   "outputs": [],
   "source": [
    "import plotly.graph_objs as go"
   ]
  },
  {
   "cell_type": "code",
   "execution_count": null,
   "metadata": {
    "id": "JqF2CXC3efs9"
   },
   "outputs": [],
   "source": [
    "fig = go.Figure([\n",
    "    go.Scatter(\n",
    "        y=train_acc,\n",
    "        x=[ep for ep in range(1, epochs + 1)],\n",
    "        mode='lines',\n",
    "        name=\"Acurácia de Treino\"\n",
    "    ),\n",
    "    go.Scatter(\n",
    "        y=test_acc,\n",
    "        x=[ep for ep in range(1, epochs + 1)],\n",
    "        mode='lines',\n",
    "        name=\"Acurácia de Teste\"\n",
    "    ),\n",
    "])\n",
    "fig.update_layout(\n",
    "    title=\"Acurácia\",\n",
    "    yaxis = dict(\n",
    "        tickformat = \"%\",\n",
    "    ),\n",
    "    xaxis = dict(\n",
    "        title = \"Época\",\n",
    "    )\n",
    ")\n",
    "fig.show()"
   ]
  },
  {
   "cell_type": "code",
   "execution_count": null,
   "metadata": {
    "id": "LVjBiRiZfu2A"
   },
   "outputs": [],
   "source": [
    "fig = go.Figure([\n",
    "    go.Scatter(\n",
    "        y=train_loss,\n",
    "        x=[ep for ep in range(1, epochs + 1)],\n",
    "        mode='lines',\n",
    "        name=\"Loss de Treinamento\"\n",
    "    ),\n",
    "    go.Scatter(\n",
    "        y=test_loss,\n",
    "        x=[ep for ep in range(1, epochs + 1)],\n",
    "        mode='lines',\n",
    "        name=\"Loss de Teste\"\n",
    "    ),\n",
    "])\n",
    "fig.update_layout(\n",
    "    title=\"Loss\",\n",
    "    xaxis = dict(title=\"Época\")\n",
    ")\n",
    "fig.show()"
   ]
  },
  {
   "cell_type": "code",
   "execution_count": null,
   "metadata": {
    "id": "S_bpFhUeSZvy"
   },
   "outputs": [],
   "source": [
    "fig = go.Figure([\n",
    "    go.Scatter(\n",
    "        y=_learning_rate,\n",
    "        x=[ep for ep in range(1, epochs + 1)],\n",
    "        mode='lines',\n",
    "        name=\"Learning Rate\"\n",
    "    ),\n",
    "])\n",
    "fig.update_layout(\n",
    "    title=\"Learning Rate\",\n",
    "    xaxis = dict(title=\"Época\")\n",
    ")\n",
    "fig.show()"
   ]
  },
  {
   "cell_type": "markdown",
   "metadata": {
    "id": "ivn_FUPTSTA4"
   },
   "source": [
    "Finalmente, vamos testar o quão bem nosso aluno aprendeu a imitar o comportamento do especialista"
   ]
  },
  {
   "cell_type": "code",
   "execution_count": null,
   "metadata": {
    "id": "BuCpdvyxeG5A"
   },
   "outputs": [],
   "source": [
    "# Inserir a rede treinada de volta no agente estudante\n",
    "student.policy = model"
   ]
  },
  {
   "cell_type": "code",
   "execution_count": null,
   "metadata": {
    "id": "jo_D5XuPMjMp"
   },
   "outputs": [],
   "source": [
    "mean_reward, std_reward = evaluate_policy(student, env, n_eval_episodes=10)\n",
    "\n",
    "print(f\"Mean reward = {mean_reward} +/- {std_reward}\")"
   ]
  },
  {
   "cell_type": "code",
   "execution_count": null,
   "metadata": {
    "id": "lBTDrSJg6m7v"
   },
   "outputs": [],
   "source": [
    "frames = []\n",
    "episodes = 1\n",
    "for episode in range(1, episodes+1):\n",
    "    obs = env.reset()     \n",
    "    done = False\n",
    "    score = 0\n",
    "    while not done:\n",
    "        frames.append(env.render(mode='rgb_array'))           \n",
    "        action = student.predict(obs, deterministic=True)   \n",
    "        obs, reward, done, info = env.step(action)       \n",
    "        score += reward\n",
    "    print(\"\\n\\nEpisódio: {} Pontuação: {}\".format(episode,score))\n",
    "env.close()"
   ]
  },
  {
   "cell_type": "code",
   "execution_count": null,
   "metadata": {
    "id": "7Ip8jLMAK5_3"
   },
   "outputs": [],
   "source": [
    "display.HTML(display_anim(frames))"
   ]
  },
  {
   "cell_type": "markdown",
   "metadata": {
    "id": "ivURRR0sbxgr"
   },
   "source": [
    "# Bônus\n",
    "\n",
    "O algoritimo Dagger é um algoritimo interativo que aproxima as distribuições de trajetórias de alunos e especialistas ao rotular pontos de dados adicionais resultantes da aplicação da política atual.\n",
    "\n",
    "Em sua forma mais simples, o algoritmo procede da seguinte maneira. Na primeira iteração, ele usa a política do especialista para reunir um conjunto de dados de trajetórias $D$ e treinar uma política $\\pi_{2}$ que melhor imita o especialista nessas trajetórias. Então, na iteração $n$, ele usa $\\pi_{n}$ para coletar mais trajetórias e adiciona essas trajetórias ao conjunto de dados $D$. A próxima política $\\pi_{n+1}$ é a que melhor imita o especialista em todo o conjunto de dados $D$.\n",
    "\n",
    "É como se a cada passo, perguntássemos ao especialista sua opinião sobre nossa trajetória atual. Em seguida, reunindo esta opinião (sua resposta aos estados que encontramos) e os conjuntos de dados anteriores de trajetórias,\n",
    "podemos treinar uma nova política mais precisa porque estamos levando em consideração a opinião de mais especialistas.\n",
    "\n",
    "<br>\n",
    "\n",
    "Algoritmo [Dagger](http://proceedings.mlr.press/v15/ross11a/ross11a.pdf):\n",
    "\n",
    "<img src='https://drive.google.com/uc?id=1rMERL80AGmDRR0fKVfq0KjhJjGPt4YKt' width=\"450\" height=\"250\">\n",
    "\n",
    "\n",
    "A tarefa bônus consistirá em implementar o algoritmo Dagger.\n"
   ]
  }
 ],
 "metadata": {
  "colab": {
   "collapsed_sections": [],
   "name": "Imitation_Learning_Lab_01.ipynb",
   "provenance": []
  },
  "kernelspec": {
   "display_name": "Python 3",
   "language": "python",
   "name": "python3"
  },
  "language_info": {
   "codemirror_mode": {
    "name": "ipython",
    "version": 3
   },
   "file_extension": ".py",
   "mimetype": "text/x-python",
   "name": "python",
   "nbconvert_exporter": "python",
   "pygments_lexer": "ipython3",
   "version": "3.8.5"
  }
 },
 "nbformat": 4,
 "nbformat_minor": 1
}
