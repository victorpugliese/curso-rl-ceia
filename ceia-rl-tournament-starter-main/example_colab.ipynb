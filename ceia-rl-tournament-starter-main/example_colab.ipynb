{
 "cells": [
  {
   "cell_type": "markdown",
   "metadata": {
    "id": "pp87Hqg5J8fN"
   },
   "source": [
    "## Dependencies"
   ]
  },
  {
   "cell_type": "code",
   "execution_count": null,
   "metadata": {
    "colab": {
     "base_uri": "https://localhost:8080/"
    },
    "id": "nUP7DnYPIvmX",
    "outputId": "a8273ae1-c202-4f56-9341-ac6b690d7e28"
   },
   "outputs": [],
   "source": [
    "!pip install ceia-soccer-twos"
   ]
  },
  {
   "cell_type": "markdown",
   "metadata": {
    "id": "vwxzH4-EJ_8E"
   },
   "source": [
    "## Imports"
   ]
  },
  {
   "cell_type": "code",
   "execution_count": null,
   "metadata": {
    "colab": {
     "base_uri": "https://localhost:8080/"
    },
    "id": "RLitAFdJI9f_",
    "outputId": "fdd99525-fb5d-43f8-eab9-8efd08275a83"
   },
   "outputs": [],
   "source": [
    "import soccer_twos"
   ]
  },
  {
   "cell_type": "markdown",
   "metadata": {
    "id": "vgzONbrTKD3x"
   },
   "source": [
    "## RL Loop"
   ]
  },
  {
   "cell_type": "markdown",
   "metadata": {
    "id": "gM6vA9FCLO9p"
   },
   "source": [
    "### Create environment"
   ]
  },
  {
   "cell_type": "code",
   "execution_count": null,
   "metadata": {
    "colab": {
     "base_uri": "https://localhost:8080/"
    },
    "id": "TXBp0BgLKpOW",
    "outputId": "1fdd4c18-32e4-4928-a14e-ab20df080658"
   },
   "outputs": [],
   "source": [
    "# run this only once or change `worker_id` or `base_port` to avoid communication conflicts\n",
    "# e.g. `env = soccer_twos.make(worker_id=1)`\n",
    "\n",
    "env = soccer_twos.make()"
   ]
  },
  {
   "cell_type": "markdown",
   "metadata": {
    "id": "GYIcyIk1LRmB"
   },
   "source": [
    "### Run a single episode with random actions"
   ]
  },
  {
   "cell_type": "code",
   "execution_count": null,
   "metadata": {
    "colab": {
     "base_uri": "https://localhost:8080/"
    },
    "id": "lgE8n2MvJ0-Z",
    "outputId": "52b1a859-aca6-49b0-c108-ff10afb5628c"
   },
   "outputs": [],
   "source": [
    "obs = env.reset()\n",
    "\n",
    "total_blue_reward = 0\n",
    "done = False\n",
    "while not done:\n",
    "    action = {\n",
    "        # team blue\n",
    "        0: env.action_space.sample(),\n",
    "        1: env.action_space.sample(),\n",
    "        # team orange\n",
    "        2: env.action_space.sample(),\n",
    "        3: env.action_space.sample(),\n",
    "    }\n",
    "    obs, reward, done, info = env.step(action)\n",
    "    total_blue_reward += reward[0] + reward[1]\n",
    "\n",
    "total_blue_reward"
   ]
  },
  {
   "cell_type": "code",
   "execution_count": null,
   "metadata": {},
   "outputs": [],
   "source": []
  }
 ],
 "metadata": {
  "colab": {
   "collapsed_sections": [
    "pp87Hqg5J8fN"
   ],
   "name": "example_colab.ipynb",
   "provenance": []
  },
  "kernelspec": {
   "display_name": "Python 3",
   "language": "python",
   "name": "python3"
  },
  "language_info": {
   "codemirror_mode": {
    "name": "ipython",
    "version": 3
   },
   "file_extension": ".py",
   "mimetype": "text/x-python",
   "name": "python",
   "nbconvert_exporter": "python",
   "pygments_lexer": "ipython3",
   "version": "3.8.5"
  }
 },
 "nbformat": 4,
 "nbformat_minor": 1
}
